{
 "cells": [
  {
   "cell_type": "code",
   "execution_count": 4,
   "metadata": {},
   "outputs": [],
   "source": [
    "import sys\n",
    "import tkinter as tk\n",
    "from tkinter import ttk\n",
    "from random import choice\n",
    "from lib import str,debug\n",
    "\n",
    "try:\n",
    "    cmd_args =str.Arg_Pharse(sys.argv)\n",
    "except:\n",
    "  debug.print(\"No Arguments\")"
   ]
  },
  {
   "cell_type": "code",
   "execution_count": 10,
   "metadata": {},
   "outputs": [],
   "source": [
    "def dataset():\n",
    "    gdb = {\n",
    "        'GUI':{\n",
    "            'width':600,\n",
    "            'height':400\n",
    "        },\n",
    "        'List':{\n",
    "            'col':['Name','Date modified','Type','size']\n",
    "        }\n",
    "    }\n",
    "    return gdb\n",
    "gdb=dataset()"
   ]
  },
  {
   "cell_type": "code",
   "execution_count": 6,
   "metadata": {},
   "outputs": [],
   "source": [
    "GuiSize=[600,400]\n",
    "#GuiSizeCode=str(GuiSize[0])+'x'+str(GuiSize[1])\n",
    "window=tk.Tk()\n",
    "#print(GuiSizeCode)\n"
   ]
  },
  {
   "cell_type": "code",
   "execution_count": 9,
   "metadata": {},
   "outputs": [],
   "source": [
    "\n",
    "window.geometry('600x400')\n",
    "window.title(\"Files\")\n",
    "# Nav bar\n",
    "# Tree\n",
    "# List\n",
    "ListView = ttk.Treeview(window,columns=['Name','Date','Type','size'],show = 'headings')\n",
    "ListView.heading('Name', text = 'Name')\n",
    "ListView.heading('Date', text = 'Date modified')\n",
    "ListView.heading('Type', text = 'Type')\n",
    "ListView.heading('size', text = 'size')\n",
    "ListView.pack(fill = 'both', expand = True)\n",
    "# Status\n",
    "\n"
   ]
  },
  {
   "cell_type": "code",
   "execution_count": 10,
   "metadata": {},
   "outputs": [],
   "source": [
    "ListView.pack(fill = 'both', expand = True)\n",
    "ListView.insert(parent = '', index = tk.END, values = ('XXXXX', 'YYYYY', 'ZZZZZ'))\n",
    "window.mainloop()"
   ]
  },
  {
   "cell_type": "code",
   "execution_count": 3,
   "metadata": {},
   "outputs": [
    {
     "name": "stdout",
     "output_type": "stream",
     "text": [
      "Press s or n to continue:\n",
      "\n"
     ]
    }
   ],
   "source": [
    "import msvcrt\n",
    "print('Press s or n to continue:\\n')\n",
    "input_char = msvcrt.getch()\n",
    "if input_char.upper() == 'S':\n",
    "   print('YES')"
   ]
  },
  {
   "cell_type": "code",
   "execution_count": 16,
   "metadata": {},
   "outputs": [
    {
     "name": "stdout",
     "output_type": "stream",
     "text": [
      "\t\t\t-\n"
     ]
    }
   ],
   "source": [
    "def draw_spacer(len):\n",
    "    if (int(len) > 4):\n",
    "        print(\"\\t\"*int(len%4),end=\"\")\n",
    "    print(\"-\"*(int(len/4)))\n",
    "draw_spacer(7)"
   ]
  },
  {
   "cell_type": "code",
   "execution_count": 18,
   "metadata": {},
   "outputs": [
    {
     "name": "stdout",
     "output_type": "stream",
     "text": [
      "15\n"
     ]
    }
   ],
   "source": [
    "data =[\n",
    "\"Mode                 LastWriteTime         Length Name\"\n",
    ",\"----                 -------------         ------ ----\"\n",
    ",\"d-----         10/8/2024  10:24 AM                .vscode\"\n",
    ",\"d-----         11/8/2024  11:55 AM                bin\"\n",
    ",\"d-----         11/8/2024   3:43 PM                lib\"\n",
    ",\"d-----          7/8/2024   9:14 PM                reg\"\n",
    ",\"d-----         11/8/2024  11:52 AM                temp\"\n",
    ",\"-a----         10/8/2024   7:11 PM            879 Files.ahk\"\n",
    ",\"-a----         11/8/2024   4:07 PM           9153 files.ipynb\"\n",
    ",\"-a----         10/8/2024  10:23 AM            804 files.py\"\n",
    ",\"-a----         10/8/2024  10:52 AM           5459 Prime.cpp\"\n",
    ",\"-a----         10/8/2024  10:31 AM          69960 Prime.exe\"\n",
    ",\"-a----         10/8/2024  10:53 AM          64624 Prime2.exe\"\n",
    ",\"-a----         10/8/2024   6:36 PM            887 test.ipynb\"\n",
    ",\"-a----          7/8/2024  11:04 PM           1390 test.py\"]\n",
    "print(len(data))\n"
   ]
  },
  {
   "cell_type": "code",
   "execution_count": 25,
   "metadata": {},
   "outputs": [
    {
     "name": "stdout",
     "output_type": "stream",
     "text": [
      "True\n",
      "b'\\x00xx'\n"
     ]
    }
   ],
   "source": [
    "txt = b'\\x00'\n",
    "print(txt == b'\\x00')\n",
    "print(str(b'\\0xx'))"
   ]
  }
 ],
 "metadata": {
  "kernelspec": {
   "display_name": "Python 3",
   "language": "python",
   "name": "python3"
  },
  "language_info": {
   "codemirror_mode": {
    "name": "ipython",
    "version": 3
   },
   "file_extension": ".py",
   "mimetype": "text/x-python",
   "name": "python",
   "nbconvert_exporter": "python",
   "pygments_lexer": "ipython3",
   "version": "3.12.4"
  }
 },
 "nbformat": 4,
 "nbformat_minor": 2
}
