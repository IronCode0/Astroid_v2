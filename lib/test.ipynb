{
 "cells": [
  {
   "cell_type": "code",
   "execution_count": 1,
   "metadata": {},
   "outputs": [
    {
     "name": "stdout",
     "output_type": "stream",
     "text": [
      "4\n"
     ]
    }
   ],
   "source": [
    "di = {}\n",
    "if not di: print(4)\n",
    "else : print(9)"
   ]
  },
  {
   "cell_type": "code",
   "execution_count": 1,
   "metadata": {},
   "outputs": [],
   "source": [
    "import tkinter as tk\n",
    "window =tk.Tk()\n",
    "window.geometry('400x200')\n",
    "\n",
    "resFrame = tk.PanedWindow(window, sashwidth=3, bg=\"black\", bd=0)\n",
    "btn1 = tk.Label(resFrame,text='1')\n",
    "btn2 = tk.Label(resFrame,text='2')\n",
    "btn3 = tk.Label(resFrame,text='3')\n",
    "\n",
    "\n",
    "#btn1.pack(side='left',padx=10,pady=10,expand=True,fill='both')\n",
    "#btn2.pack(side='left',padx=10,pady=10,expand=True,fill='both')\n",
    "resFrame.pack(fill=\"both\", expand=1)\n",
    "resFrame.add(btn1,width=50)\n",
    "resFrame.add(btn2,width=100)\n",
    "resFrame.add(btn3,width=50)\n",
    "#btn3.pack(side='left',padx=10,pady=10,expand=True,fill='both')\n",
    "#frame1 = tk.Frame(resFrame, bg= \"red\")\n",
    "#resFrame.add(frame1)\n",
    "window.mainloop()"
   ]
  },
  {
   "cell_type": "code",
   "execution_count": 4,
   "metadata": {},
   "outputs": [
    {
     "name": "stdout",
     "output_type": "stream",
     "text": [
      "0 3 6 9 12\n"
     ]
    }
   ],
   "source": [
    "def c(a,b): return (a+b)\n",
    "print(*[c(a,b) for (a,b) in [(i,i*2) for i in range(5)]])"
   ]
  }
 ],
 "metadata": {
  "kernelspec": {
   "display_name": "Python 3",
   "language": "python",
   "name": "python3"
  },
  "language_info": {
   "codemirror_mode": {
    "name": "ipython",
    "version": 3
   },
   "file_extension": ".py",
   "mimetype": "text/x-python",
   "name": "python",
   "nbconvert_exporter": "python",
   "pygments_lexer": "ipython3",
   "version": "3.12.4"
  }
 },
 "nbformat": 4,
 "nbformat_minor": 2
}
