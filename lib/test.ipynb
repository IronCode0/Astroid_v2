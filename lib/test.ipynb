{
 "cells": [
  {
   "cell_type": "code",
   "execution_count": 1,
   "metadata": {},
   "outputs": [],
   "source": [
    "import debug\n",
    "import importlib,importlib.util\n",
    "from reg import REG\n"
   ]
  },
  {
   "cell_type": "code",
   "execution_count": 2,
   "metadata": {},
   "outputs": [],
   "source": [
    "\n",
    "class _UI_NAV_BAR_:\n",
    "    def __init__(self):\n",
    "        self.t = \"\"\n",
    "    def cout(self):\n",
    "        print(self.t if hasattr(self,'t') else 'GG')\n",
    "    def set(self,text):\n",
    "        self.t = text\n",
    "class _CTRL_LV_AD_:\n",
    "    pass\n",
    "class _CTRL_TV_AD_:\n",
    "    pass\n",
    "class _OBJ_BUTTON_:\n",
    "    pass\n",
    "class _UI_STA_BAR_:\n",
    "    pass"
   ]
  },
  {
   "cell_type": "code",
   "execution_count": 13,
   "metadata": {},
   "outputs": [],
   "source": [
    "class FrameX:\n",
    "    _mlist={\n",
    "        'nav bar' : \"_UI_NAV_BAR_\",\n",
    "        'ListView': \"_CTRL_LV_AD_\",\n",
    "        'TreeView': \"_CTRL_TV_AD_\",\n",
    "        'Button'  : \"_OBJ_BUTTON_\",\n",
    "        'Stat bar': \"_UI_STA_BAR_\",\n",
    "    }\n",
    "    _clist={\n",
    "        '_UI_NAV_BAR_': _UI_NAV_BAR_,\n",
    "        '_CTRL_LV_AD_': _CTRL_LV_AD_,\n",
    "        '_CTRL_TV_AD_': _CTRL_TV_AD_,\n",
    "        '_OBJ_BUTTON_': _OBJ_BUTTON_,\n",
    "        '_UI_STA_BAR_': _UI_STA_BAR_,\n",
    "    }\n",
    "    def __new__(cls,_widget):\n",
    "        if type(_widget) is str and (_widget in FrameX._clist or _widget in FrameX._mlist): return super().__new__(cls)\n",
    "        if type(_widget) is not tuple: return None;\n",
    "        try:\n",
    "            importlib.import_module(_widget[0])\n",
    "            if hasattr(importlib.import_module(_widget[0]),_widget[1]):\n",
    "                t_class = getattr(importlib.import_module(_widget[0]),_widget[1])\n",
    "                FrameX._mlist[t_class.RefID] = _widget[1]\n",
    "                FrameX._clist[_widget[1]] = t_class\n",
    "                return super().__new__(cls)\n",
    "            else: debug.cout(f'Class: {_widget[1]} not found in module: {_widget[0]}');\n",
    "        except ModuleNotFoundError:\n",
    "            debug.cout(f\"ERROR 0x400878: Module '{_widget[0]}' not found\");\n",
    "        return None;\n",
    "    def __init__(self,widget): self._module=FrameX.getcls(widget)();\n",
    "    def __getattr__(self,name): return getattr(self._module, name) if hasattr(self._module, name) else debug.dummy_func;\n",
    "        \n",
    "    @staticmethod\n",
    "    def getcls(text):\n",
    "        if type(text) is tuple: text = text[1]\n",
    "        if text[0:1] != \"_\" and text in FrameX._mlist:\n",
    "            text = FrameX._mlist[text]\n",
    "        if text in FrameX._clist: return FrameX._clist[text]\n",
    "        return debug.dummy_class\n",
    "    def getfunc(module, name):\n",
    "        if hasattr(module, name): return getattr(module, name) \n",
    "        else: return debug.dummy_func\n",
    "\n"
   ]
  },
  {
   "cell_type": "code",
   "execution_count": 4,
   "metadata": {},
   "outputs": [],
   "source": [
    "k = FrameX(('temp','_TEMP_MODULE_'))"
   ]
  },
  {
   "cell_type": "code",
   "execution_count": 5,
   "metadata": {},
   "outputs": [
    {
     "name": "stdout",
     "output_type": "stream",
     "text": [
      "Calling a dummy function\n"
     ]
    }
   ],
   "source": [
    "k.gg()"
   ]
  },
  {
   "cell_type": "code",
   "execution_count": 11,
   "metadata": {},
   "outputs": [
    {
     "data": {
      "text/plain": [
       "temp._TEMP_MODULE_"
      ]
     },
     "execution_count": 11,
     "metadata": {},
     "output_type": "execute_result"
    }
   ],
   "source": [
    "k._module.__class__"
   ]
  },
  {
   "cell_type": "code",
   "execution_count": 15,
   "metadata": {},
   "outputs": [
    {
     "name": "stdout",
     "output_type": "stream",
     "text": [
      "henllo\n",
      "wonrld\n",
      "GddG\n"
     ]
    }
   ],
   "source": [
    "P = FrameX('nav bar')\n",
    "h = FrameX('nav bar')\n",
    "k = FrameX(('temp','_TEMP_MODULE_'))\n",
    "\n",
    "P.set(\"henllo\")\n",
    "h.set(\"wonrld\")\n",
    "\n",
    "\n",
    "P.cout()\n",
    "h.cout()\n",
    "k.cout()\n"
   ]
  },
  {
   "cell_type": "code",
   "execution_count": 1,
   "metadata": {},
   "outputs": [],
   "source": [
    "import tkinter as tk\n",
    "window =tk.Tk()\n",
    "window.geometry('400x200')\n",
    "\n",
    "resFrame = tk.PanedWindow(window, sashwidth=3, bg=\"black\", bd=0)\n",
    "btn1 = tk.Label(resFrame,text='1')\n",
    "btn2 = tk.Label(resFrame,text='2')\n",
    "btn3 = tk.Label(resFrame,text='3')\n",
    "\n",
    "\n",
    "#btn1.pack(side='left',padx=10,pady=10,expand=True,fill='both')\n",
    "#btn2.pack(side='left',padx=10,pady=10,expand=True,fill='both')\n",
    "resFrame.pack(fill=\"both\", expand=1)\n",
    "resFrame.add(btn1,width=50)\n",
    "resFrame.add(btn2,width=100)\n",
    "resFrame.add(btn3,width=50)\n",
    "#btn3.pack(side='left',padx=10,pady=10,expand=True,fill='both')\n",
    "#frame1 = tk.Frame(resFrame, bg= \"red\")\n",
    "#resFrame.add(frame1)\n",
    "window.mainloop()"
   ]
  },
  {
   "cell_type": "code",
   "execution_count": 22,
   "metadata": {},
   "outputs": [
    {
     "name": "stdout",
     "output_type": "stream",
     "text": [
      "vervee 77\n"
     ]
    }
   ],
   "source": [
    "class mycls:\n",
    "    j = 77\n",
    "    def k(self):\n",
    "        print(\"vervee\",self.__class__.j)\n",
    "\n",
    "t =mycls()\n",
    "t.k()"
   ]
  },
  {
   "cell_type": "code",
   "execution_count": 34,
   "metadata": {},
   "outputs": [],
   "source": [
    "import wmi\n",
    "wmi_data = wmi.WMI().Win32_LogicalDisk();\n"
   ]
  },
  {
   "cell_type": "code",
   "execution_count": 27,
   "metadata": {},
   "outputs": [
    {
     "name": "stdout",
     "output_type": "stream",
     "text": [
      "         o \n",
      "       o o o \n",
      "     o o o o o \n",
      "   o o o o o o o \n",
      " o o o o o o o o o \n",
      "\n"
     ]
    }
   ],
   "source": [
    "rows = 5\n",
    "\n",
    "print(\"\",*['  ' * (rows-i) + 'o ' * (2*i-1) + \"\\n\" for i in range(1,rows+1)])\n",
    "\n",
    "\n"
   ]
  },
  {
   "cell_type": "code",
   "execution_count": 8,
   "metadata": {},
   "outputs": [],
   "source": [
    "import matplotlib.pyplot as plt\n",
    "%matplotlib inline\n"
   ]
  },
  {
   "cell_type": "code",
   "execution_count": 14,
   "metadata": {},
   "outputs": [],
   "source": [
    "x = range(1,101)\n",
    "y = [i**3+7 for i in x]\n"
   ]
  },
  {
   "cell_type": "code",
   "execution_count": 15,
   "metadata": {},
   "outputs": [
    {
     "data": {
      "image/png": "[encoded data removed]",
      "text/plain": [
       "<Figure size 640x480 with 1 Axes>"
      ]
     },
     "metadata": {},
     "output_type": "display_data"
    }
   ],
   "source": [
    "\n",
    "plt.plot(x,y)\n",
    "plt.show()"
   ]
  }
 ],
 "metadata": {
  "kernelspec": {
   "display_name": "Python 3",
   "language": "python",
   "name": "python3"
  },
  "language_info": {
   "codemirror_mode": {
    "name": "ipython",
    "version": 3
   },
   "file_extension": ".py",
   "mimetype": "text/x-python",
   "name": "python",
   "nbconvert_exporter": "python",
   "pygments_lexer": "ipython3",
   "version": "3.12.4"
  }
 },
 "nbformat": 4,
 "nbformat_minor": 2
}
