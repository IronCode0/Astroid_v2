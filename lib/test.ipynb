{
 "cells": [
  {
   "cell_type": "code",
   "execution_count": 1,
   "metadata": {},
   "outputs": [
    {
     "name": "stdout",
     "output_type": "stream",
     "text": [
      "4\n"
     ]
    }
   ],
   "source": [
    "di = {}\n",
    "if not di: print(4)\n",
    "else : print(9)"
   ]
  },
  {
   "cell_type": "code",
   "execution_count": 1,
   "metadata": {},
   "outputs": [],
   "source": [
    "import tkinter as tk\n",
    "window =tk.Tk()\n",
    "window.geometry('400x200')\n",
    "\n",
    "resFrame = tk.PanedWindow(window, sashwidth=3, bg=\"black\", bd=0)\n",
    "btn1 = tk.Label(resFrame,text='1')\n",
    "btn2 = tk.Label(resFrame,text='2')\n",
    "btn3 = tk.Label(resFrame,text='3')\n",
    "\n",
    "\n",
    "#btn1.pack(side='left',padx=10,pady=10,expand=True,fill='both')\n",
    "#btn2.pack(side='left',padx=10,pady=10,expand=True,fill='both')\n",
    "resFrame.pack(fill=\"both\", expand=1)\n",
    "resFrame.add(btn1,width=50)\n",
    "resFrame.add(btn2,width=100)\n",
    "resFrame.add(btn3,width=50)\n",
    "#btn3.pack(side='left',padx=10,pady=10,expand=True,fill='both')\n",
    "#frame1 = tk.Frame(resFrame, bg= \"red\")\n",
    "#resFrame.add(frame1)\n",
    "window.mainloop()"
   ]
  },
  {
   "cell_type": "code",
   "execution_count": 11,
   "metadata": {},
   "outputs": [
    {
     "name": "stdout",
     "output_type": "stream",
     "text": [
      "superMethod <__main__.SuperClass object at 0x000001588D356480>\n",
      "superMethod <__main__.SubClass object at 0x000001588D357620>\n",
      "subMethod <__main__.SubClass object at 0x000001588D357620>\n"
     ]
    }
   ],
   "source": [
    "class SuperClass:\n",
    "    def __init__(self):\n",
    "        return\n",
    "    def superMethod(self):\n",
    "        print(\"superMethod\",self)\n",
    "\n",
    "## Another version of Initiation\n",
    "class SubClass(SuperClass):\n",
    "    def __init__(self):\n",
    "        super(SubClass, self).__init__()\n",
    "    def subMethod(self):\n",
    "        print(\"subMethod\",self)\n",
    "\n",
    "## Calling class constructor / initiation\n",
    "c = SuperClass()\n",
    "k = SubClass()\n",
    "\n",
    "## Calling class methods\n",
    "c.superMethod()\n",
    "k.superMethod()\n",
    "k.subMethod()"
   ]
  },
  {
   "cell_type": "code",
   "execution_count": 22,
   "metadata": {},
   "outputs": [
    {
     "name": "stdout",
     "output_type": "stream",
     "text": [
      "fergr/grrg/ssss\n"
     ]
    }
   ],
   "source": [
    "addr=\"fergr/grrg/ssss\"\n",
    "if addr[-1]=='/': addr = addr[0:-1]\n",
    "print(addr)"
   ]
  },
  {
   "cell_type": "code",
   "execution_count": null,
   "metadata": {},
   "outputs": [],
   "source": []
  }
 ],
 "metadata": {
  "kernelspec": {
   "display_name": "Python 3",
   "language": "python",
   "name": "python3"
  },
  "language_info": {
   "codemirror_mode": {
    "name": "ipython",
    "version": 3
   },
   "file_extension": ".py",
   "mimetype": "text/x-python",
   "name": "python",
   "nbconvert_exporter": "python",
   "pygments_lexer": "ipython3",
   "version": "3.12.4"
  }
 },
 "nbformat": 4,
 "nbformat_minor": 2
}
