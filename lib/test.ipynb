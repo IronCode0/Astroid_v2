{
 "cells": [
  {
   "cell_type": "code",
   "execution_count": 1,
   "metadata": {},
   "outputs": [
    {
     "name": "stdout",
     "output_type": "stream",
     "text": [
      "4\n"
     ]
    }
   ],
   "source": [
    "di = {}\n",
    "if not di: print(4)\n",
    "else : print(9)"
   ]
  },
  {
   "cell_type": "code",
   "execution_count": 1,
   "metadata": {},
   "outputs": [],
   "source": [
    "import tkinter as tk\n",
    "window =tk.Tk()\n",
    "window.geometry('400x200')\n",
    "\n",
    "resFrame = tk.PanedWindow(window, sashwidth=3, bg=\"black\", bd=0)\n",
    "btn1 = tk.Label(resFrame,text='1')\n",
    "btn2 = tk.Label(resFrame,text='2')\n",
    "btn3 = tk.Label(resFrame,text='3')\n",
    "\n",
    "\n",
    "#btn1.pack(side='left',padx=10,pady=10,expand=True,fill='both')\n",
    "#btn2.pack(side='left',padx=10,pady=10,expand=True,fill='both')\n",
    "resFrame.pack(fill=\"both\", expand=1)\n",
    "resFrame.add(btn1,width=50)\n",
    "resFrame.add(btn2,width=100)\n",
    "resFrame.add(btn3,width=50)\n",
    "#btn3.pack(side='left',padx=10,pady=10,expand=True,fill='both')\n",
    "#frame1 = tk.Frame(resFrame, bg= \"red\")\n",
    "#resFrame.add(frame1)\n",
    "window.mainloop()"
   ]
  },
  {
   "cell_type": "code",
   "execution_count": 8,
   "metadata": {},
   "outputs": [
    {
     "ename": "AttributeError",
     "evalue": "'int' object has no attribute 'value'",
     "output_type": "error",
     "traceback": [
      "\u001b[1;31m---------------------------------------------------------------------------\u001b[0m",
      "\u001b[1;31mAttributeError\u001b[0m                            Traceback (most recent call last)",
      "Cell \u001b[1;32mIn[8], line 2\u001b[0m\n\u001b[0;32m      1\u001b[0m k \u001b[38;5;241m=\u001b[39m {\u001b[38;5;241m4\u001b[39m:\u001b[38;5;241m4\u001b[39m,\u001b[38;5;241m7\u001b[39m:\u001b[38;5;241m88\u001b[39m}\n\u001b[1;32m----> 2\u001b[0m \u001b[38;5;28;01mfor\u001b[39;00m i \u001b[38;5;129;01min\u001b[39;00m k: \u001b[38;5;28mprint\u001b[39m(i\u001b[38;5;241m.\u001b[39mvalue)\n",
      "\u001b[1;31mAttributeError\u001b[0m: 'int' object has no attribute 'value'"
     ]
    }
   ],
   "source": [
    "k = {4:4,7:88}\n",
    "for i in k: print(i.value)"
   ]
  }
 ],
 "metadata": {
  "kernelspec": {
   "display_name": "Python 3",
   "language": "python",
   "name": "python3"
  },
  "language_info": {
   "codemirror_mode": {
    "name": "ipython",
    "version": 3
   },
   "file_extension": ".py",
   "mimetype": "text/x-python",
   "name": "python",
   "nbconvert_exporter": "python",
   "pygments_lexer": "ipython3",
   "version": "3.12.4"
  }
 },
 "nbformat": 4,
 "nbformat_minor": 2
}
